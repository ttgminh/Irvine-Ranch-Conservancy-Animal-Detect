{
 "cells": [
  {
   "cell_type": "code",
   "execution_count": 1,
   "metadata": {},
   "outputs": [],
   "source": [
    "import requests\n",
    "import os\n",
    "\n",
    "# Function to download images from iNaturalist API\n",
    "def download_images(taxon_id, num_images,user_id, output_dir):\n",
    "    os.makedirs(output_dir, exist_ok=True)\n",
    "    url = 'https://api.inaturalist.org/v1/observations'\n",
    "    params = {\n",
    "        'taxon_id': taxon_id,\n",
    "        'per_page': num_images,\n",
    "        'user_id': user_id,\n",
    "        'order_by': 'random',\n",
    "        'photos': True\n",
    "    }\n",
    "    response = requests.get(url, params=params)\n",
    "    data = response.json()\n",
    "\n",
    "    image_urls = []\n",
    "    for result in data['results']:\n",
    "        for photo in result.get('photos', []):\n",
    "            # Check for the largest available image\n",
    "            img_url = photo['url'].replace('square', 'original')\n",
    "            image_urls.append(img_url)\n",
    "\n",
    "    for i, img_url in enumerate(image_urls):\n",
    "        try:\n",
    "            # Handle relative URLs\n",
    "            if not img_url.startswith('http'):\n",
    "                img_url = 'https:' + img_url\n",
    "\n",
    "            img_data = requests.get(img_url).content\n",
    "            with open(os.path.join(output_dir, f'image_{i + 1}.jpg'), 'wb') as img_file: #change the name of the image file here to in case of writing over\n",
    "                img_file.write(img_data)\n",
    "            print(f'Downloaded {img_url} as image_{i + 1}.jpg')\n",
    "        except Exception as e:\n",
    "            print(f'Failed to download {img_url}: {e}')\n"
   ]
  },
  {
   "cell_type": "code",
   "execution_count": null,
   "metadata": {},
   "outputs": [],
   "source": [
    "#Loading the images\n",
    "\n",
    "#replace the taxon_id with the id of the species you want to download images for\n",
    "#replace the num_images with the number of images you want to download\n",
    "#replace the output_dir with the folder name you want to save the images\n",
    "#replace the user_id with the user id of the user on inaturalist\n",
    "\n",
    "#stop the code manually once you have enough number of images\n",
    "\n",
    "download_images(taxon_id=20445, num_images=100, output_dir='barn owl', user_id='jmaughn')"
   ]
  }
 ],
 "metadata": {
  "kernelspec": {
   "display_name": "base",
   "language": "python",
   "name": "python3"
  },
  "language_info": {
   "codemirror_mode": {
    "name": "ipython",
    "version": 3
   },
   "file_extension": ".py",
   "mimetype": "text/x-python",
   "name": "python",
   "nbconvert_exporter": "python",
   "pygments_lexer": "ipython3",
   "version": "3.11.5"
  }
 },
 "nbformat": 4,
 "nbformat_minor": 2
}
